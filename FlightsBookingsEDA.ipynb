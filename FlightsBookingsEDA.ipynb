{
 "cells": [
  {
   "cell_type": "markdown",
   "id": "904d1185-b5c7-4faf-b682-51f752d08547",
   "metadata": {},
   "source": [
    "Explaratory Data Analysis of an airline flights dataset to gain understanding of flights patterns and user behaviors.<br>\n",
    "Through data exploration and visualization, the goal is to reveal as much trends in flight routes, booking behaviors, and more.<br> By understanding these dynamics, airlines and related stakeholders can optimize operations, enhance customer experience, and make informed business decisions."
   ]
  },
  {
   "cell_type": "markdown",
   "id": "035a2670-4f2b-47f4-ac7d-90b746d630be",
   "metadata": {},
   "source": [
    "Table of contents:\n",
    "\n",
    "    0. Importing Data\n",
    "    1. Understanding Data\n",
    "    2. Data Preparation\n",
    "    3. Understanding Features\n",
    "    4. Feature Relationships\n",
    "    5. Q&A"
   ]
  },
  {
   "cell_type": "code",
   "execution_count": 1,
   "id": "5a6b7b0c-1307-44ca-84bc-78a9f0324ee1",
   "metadata": {},
   "outputs": [],
   "source": [
    "# import necessary libraries\n",
    "import pandas as pd\n",
    "import matplotlib.pylab as plt\n",
    "import seaborn as sns\n",
    "plt.style.use('ggplot')"
   ]
  },
  {
   "cell_type": "code",
   "execution_count": 2,
   "id": "d9d05fa6-ae44-4270-82e1-8f864f55045d",
   "metadata": {},
   "outputs": [],
   "source": [
    "# Read data from a CSV file into a DataFrame\n",
    "df = pd.read_csv('airlines_booking.csv', encoding='latin1')"
   ]
  },
  {
   "cell_type": "markdown",
   "id": "14d3636b-a781-485e-ac29-b34e1f9a0a0e",
   "metadata": {},
   "source": [
    "#### 1. Understanding Data\n",
    "    shape, head, columns, dtypes, desribe, isna, unique"
   ]
  },
  {
   "cell_type": "code",
   "execution_count": 3,
   "id": "954bfbae-d995-4f29-b921-2cfe5692d28f",
   "metadata": {},
   "outputs": [
    {
     "data": {
      "text/plain": [
       "(50000, 14)"
      ]
     },
     "execution_count": 3,
     "metadata": {},
     "output_type": "execute_result"
    }
   ],
   "source": [
    "# DataFrame dimensions\n",
    "df.shape"
   ]
  },
  {
   "cell_type": "code",
   "execution_count": 4,
   "id": "cc740b9e-8e09-45cc-b4f1-1f2047fe4474",
   "metadata": {},
   "outputs": [
    {
     "data": {
      "text/html": [
       "<div>\n",
       "<style scoped>\n",
       "    .dataframe tbody tr th:only-of-type {\n",
       "        vertical-align: middle;\n",
       "    }\n",
       "\n",
       "    .dataframe tbody tr th {\n",
       "        vertical-align: top;\n",
       "    }\n",
       "\n",
       "    .dataframe thead th {\n",
       "        text-align: right;\n",
       "    }\n",
       "</style>\n",
       "<table border=\"1\" class=\"dataframe\">\n",
       "  <thead>\n",
       "    <tr style=\"text-align: right;\">\n",
       "      <th></th>\n",
       "      <th>num_passengers</th>\n",
       "      <th>sales_channel</th>\n",
       "      <th>trip_type</th>\n",
       "      <th>purchase_lead</th>\n",
       "      <th>length_of_stay</th>\n",
       "      <th>flight_hour</th>\n",
       "      <th>flight_day</th>\n",
       "      <th>route</th>\n",
       "      <th>booking_origin</th>\n",
       "      <th>wants_extra_baggage</th>\n",
       "      <th>wants_preferred_seat</th>\n",
       "      <th>wants_in_flight_meals</th>\n",
       "      <th>flight_duration</th>\n",
       "      <th>booking_complete</th>\n",
       "    </tr>\n",
       "  </thead>\n",
       "  <tbody>\n",
       "    <tr>\n",
       "      <th>0</th>\n",
       "      <td>2</td>\n",
       "      <td>Internet</td>\n",
       "      <td>RoundTrip</td>\n",
       "      <td>262</td>\n",
       "      <td>19</td>\n",
       "      <td>7</td>\n",
       "      <td>Sat</td>\n",
       "      <td>AKLDEL</td>\n",
       "      <td>New Zealand</td>\n",
       "      <td>1</td>\n",
       "      <td>0</td>\n",
       "      <td>0</td>\n",
       "      <td>5.52</td>\n",
       "      <td>0</td>\n",
       "    </tr>\n",
       "    <tr>\n",
       "      <th>1</th>\n",
       "      <td>1</td>\n",
       "      <td>Internet</td>\n",
       "      <td>RoundTrip</td>\n",
       "      <td>112</td>\n",
       "      <td>20</td>\n",
       "      <td>3</td>\n",
       "      <td>Sat</td>\n",
       "      <td>AKLDEL</td>\n",
       "      <td>New Zealand</td>\n",
       "      <td>0</td>\n",
       "      <td>0</td>\n",
       "      <td>0</td>\n",
       "      <td>5.52</td>\n",
       "      <td>0</td>\n",
       "    </tr>\n",
       "    <tr>\n",
       "      <th>2</th>\n",
       "      <td>2</td>\n",
       "      <td>Internet</td>\n",
       "      <td>RoundTrip</td>\n",
       "      <td>243</td>\n",
       "      <td>22</td>\n",
       "      <td>17</td>\n",
       "      <td>Wed</td>\n",
       "      <td>AKLDEL</td>\n",
       "      <td>India</td>\n",
       "      <td>1</td>\n",
       "      <td>1</td>\n",
       "      <td>0</td>\n",
       "      <td>5.52</td>\n",
       "      <td>0</td>\n",
       "    </tr>\n",
       "    <tr>\n",
       "      <th>3</th>\n",
       "      <td>1</td>\n",
       "      <td>Internet</td>\n",
       "      <td>RoundTrip</td>\n",
       "      <td>96</td>\n",
       "      <td>31</td>\n",
       "      <td>4</td>\n",
       "      <td>Sat</td>\n",
       "      <td>AKLDEL</td>\n",
       "      <td>New Zealand</td>\n",
       "      <td>0</td>\n",
       "      <td>0</td>\n",
       "      <td>1</td>\n",
       "      <td>5.52</td>\n",
       "      <td>0</td>\n",
       "    </tr>\n",
       "    <tr>\n",
       "      <th>4</th>\n",
       "      <td>2</td>\n",
       "      <td>Internet</td>\n",
       "      <td>RoundTrip</td>\n",
       "      <td>68</td>\n",
       "      <td>22</td>\n",
       "      <td>15</td>\n",
       "      <td>Wed</td>\n",
       "      <td>AKLDEL</td>\n",
       "      <td>India</td>\n",
       "      <td>1</td>\n",
       "      <td>0</td>\n",
       "      <td>1</td>\n",
       "      <td>5.52</td>\n",
       "      <td>0</td>\n",
       "    </tr>\n",
       "  </tbody>\n",
       "</table>\n",
       "</div>"
      ],
      "text/plain": [
       "   num_passengers sales_channel  trip_type  purchase_lead  length_of_stay  \\\n",
       "0               2      Internet  RoundTrip            262              19   \n",
       "1               1      Internet  RoundTrip            112              20   \n",
       "2               2      Internet  RoundTrip            243              22   \n",
       "3               1      Internet  RoundTrip             96              31   \n",
       "4               2      Internet  RoundTrip             68              22   \n",
       "\n",
       "   flight_hour flight_day   route booking_origin  wants_extra_baggage  \\\n",
       "0            7        Sat  AKLDEL    New Zealand                    1   \n",
       "1            3        Sat  AKLDEL    New Zealand                    0   \n",
       "2           17        Wed  AKLDEL          India                    1   \n",
       "3            4        Sat  AKLDEL    New Zealand                    0   \n",
       "4           15        Wed  AKLDEL          India                    1   \n",
       "\n",
       "   wants_preferred_seat  wants_in_flight_meals  flight_duration  \\\n",
       "0                     0                      0             5.52   \n",
       "1                     0                      0             5.52   \n",
       "2                     1                      0             5.52   \n",
       "3                     0                      1             5.52   \n",
       "4                     0                      1             5.52   \n",
       "\n",
       "   booking_complete  \n",
       "0                 0  \n",
       "1                 0  \n",
       "2                 0  \n",
       "3                 0  \n",
       "4                 0  "
      ]
     },
     "execution_count": 4,
     "metadata": {},
     "output_type": "execute_result"
    }
   ],
   "source": [
    "# Header and first 5 rows\n",
    "df.head()"
   ]
  },
  {
   "cell_type": "code",
   "execution_count": 5,
   "id": "bf06c016-7f44-4f84-b46a-a183d4dbfb0c",
   "metadata": {},
   "outputs": [
    {
     "data": {
      "text/plain": [
       "Index(['num_passengers', 'sales_channel', 'trip_type', 'purchase_lead',\n",
       "       'length_of_stay', 'flight_hour', 'flight_day', 'route',\n",
       "       'booking_origin', 'wants_extra_baggage', 'wants_preferred_seat',\n",
       "       'wants_in_flight_meals', 'flight_duration', 'booking_complete'],\n",
       "      dtype='object')"
      ]
     },
     "execution_count": 5,
     "metadata": {},
     "output_type": "execute_result"
    }
   ],
   "source": [
    "# Column names\n",
    "df.columns"
   ]
  },
  {
   "cell_type": "code",
   "execution_count": 6,
   "id": "c68727fc-b450-4452-95e4-0156f1aa7144",
   "metadata": {},
   "outputs": [
    {
     "data": {
      "text/plain": [
       "num_passengers             int64\n",
       "sales_channel             object\n",
       "trip_type                 object\n",
       "purchase_lead              int64\n",
       "length_of_stay             int64\n",
       "flight_hour                int64\n",
       "flight_day                object\n",
       "route                     object\n",
       "booking_origin            object\n",
       "wants_extra_baggage        int64\n",
       "wants_preferred_seat       int64\n",
       "wants_in_flight_meals      int64\n",
       "flight_duration          float64\n",
       "booking_complete           int64\n",
       "dtype: object"
      ]
     },
     "execution_count": 6,
     "metadata": {},
     "output_type": "execute_result"
    }
   ],
   "source": [
    "# Data types of each column\n",
    "df.dtypes"
   ]
  },
  {
   "cell_type": "code",
   "execution_count": 7,
   "id": "cc02ad59-2b07-4902-a299-dfd16e897653",
   "metadata": {},
   "outputs": [
    {
     "data": {
      "text/html": [
       "<div>\n",
       "<style scoped>\n",
       "    .dataframe tbody tr th:only-of-type {\n",
       "        vertical-align: middle;\n",
       "    }\n",
       "\n",
       "    .dataframe tbody tr th {\n",
       "        vertical-align: top;\n",
       "    }\n",
       "\n",
       "    .dataframe thead th {\n",
       "        text-align: right;\n",
       "    }\n",
       "</style>\n",
       "<table border=\"1\" class=\"dataframe\">\n",
       "  <thead>\n",
       "    <tr style=\"text-align: right;\">\n",
       "      <th></th>\n",
       "      <th>num_passengers</th>\n",
       "      <th>purchase_lead</th>\n",
       "      <th>length_of_stay</th>\n",
       "      <th>flight_hour</th>\n",
       "      <th>wants_extra_baggage</th>\n",
       "      <th>wants_preferred_seat</th>\n",
       "      <th>wants_in_flight_meals</th>\n",
       "      <th>flight_duration</th>\n",
       "      <th>booking_complete</th>\n",
       "    </tr>\n",
       "  </thead>\n",
       "  <tbody>\n",
       "    <tr>\n",
       "      <th>count</th>\n",
       "      <td>50000.000000</td>\n",
       "      <td>50000.000000</td>\n",
       "      <td>50000.00000</td>\n",
       "      <td>50000.00000</td>\n",
       "      <td>50000.000000</td>\n",
       "      <td>50000.000000</td>\n",
       "      <td>50000.000000</td>\n",
       "      <td>50000.000000</td>\n",
       "      <td>50000.000000</td>\n",
       "    </tr>\n",
       "    <tr>\n",
       "      <th>mean</th>\n",
       "      <td>1.591240</td>\n",
       "      <td>84.940480</td>\n",
       "      <td>23.04456</td>\n",
       "      <td>9.06634</td>\n",
       "      <td>0.668780</td>\n",
       "      <td>0.296960</td>\n",
       "      <td>0.427140</td>\n",
       "      <td>7.277561</td>\n",
       "      <td>0.149560</td>\n",
       "    </tr>\n",
       "    <tr>\n",
       "      <th>std</th>\n",
       "      <td>1.020165</td>\n",
       "      <td>90.451378</td>\n",
       "      <td>33.88767</td>\n",
       "      <td>5.41266</td>\n",
       "      <td>0.470657</td>\n",
       "      <td>0.456923</td>\n",
       "      <td>0.494668</td>\n",
       "      <td>1.496863</td>\n",
       "      <td>0.356643</td>\n",
       "    </tr>\n",
       "    <tr>\n",
       "      <th>min</th>\n",
       "      <td>1.000000</td>\n",
       "      <td>0.000000</td>\n",
       "      <td>0.00000</td>\n",
       "      <td>0.00000</td>\n",
       "      <td>0.000000</td>\n",
       "      <td>0.000000</td>\n",
       "      <td>0.000000</td>\n",
       "      <td>4.670000</td>\n",
       "      <td>0.000000</td>\n",
       "    </tr>\n",
       "    <tr>\n",
       "      <th>25%</th>\n",
       "      <td>1.000000</td>\n",
       "      <td>21.000000</td>\n",
       "      <td>5.00000</td>\n",
       "      <td>5.00000</td>\n",
       "      <td>0.000000</td>\n",
       "      <td>0.000000</td>\n",
       "      <td>0.000000</td>\n",
       "      <td>5.620000</td>\n",
       "      <td>0.000000</td>\n",
       "    </tr>\n",
       "    <tr>\n",
       "      <th>50%</th>\n",
       "      <td>1.000000</td>\n",
       "      <td>51.000000</td>\n",
       "      <td>17.00000</td>\n",
       "      <td>9.00000</td>\n",
       "      <td>1.000000</td>\n",
       "      <td>0.000000</td>\n",
       "      <td>0.000000</td>\n",
       "      <td>7.570000</td>\n",
       "      <td>0.000000</td>\n",
       "    </tr>\n",
       "    <tr>\n",
       "      <th>75%</th>\n",
       "      <td>2.000000</td>\n",
       "      <td>115.000000</td>\n",
       "      <td>28.00000</td>\n",
       "      <td>13.00000</td>\n",
       "      <td>1.000000</td>\n",
       "      <td>1.000000</td>\n",
       "      <td>1.000000</td>\n",
       "      <td>8.830000</td>\n",
       "      <td>0.000000</td>\n",
       "    </tr>\n",
       "    <tr>\n",
       "      <th>max</th>\n",
       "      <td>9.000000</td>\n",
       "      <td>867.000000</td>\n",
       "      <td>778.00000</td>\n",
       "      <td>23.00000</td>\n",
       "      <td>1.000000</td>\n",
       "      <td>1.000000</td>\n",
       "      <td>1.000000</td>\n",
       "      <td>9.500000</td>\n",
       "      <td>1.000000</td>\n",
       "    </tr>\n",
       "  </tbody>\n",
       "</table>\n",
       "</div>"
      ],
      "text/plain": [
       "       num_passengers  purchase_lead  length_of_stay  flight_hour  \\\n",
       "count    50000.000000   50000.000000     50000.00000  50000.00000   \n",
       "mean         1.591240      84.940480        23.04456      9.06634   \n",
       "std          1.020165      90.451378        33.88767      5.41266   \n",
       "min          1.000000       0.000000         0.00000      0.00000   \n",
       "25%          1.000000      21.000000         5.00000      5.00000   \n",
       "50%          1.000000      51.000000        17.00000      9.00000   \n",
       "75%          2.000000     115.000000        28.00000     13.00000   \n",
       "max          9.000000     867.000000       778.00000     23.00000   \n",
       "\n",
       "       wants_extra_baggage  wants_preferred_seat  wants_in_flight_meals  \\\n",
       "count         50000.000000          50000.000000           50000.000000   \n",
       "mean              0.668780              0.296960               0.427140   \n",
       "std               0.470657              0.456923               0.494668   \n",
       "min               0.000000              0.000000               0.000000   \n",
       "25%               0.000000              0.000000               0.000000   \n",
       "50%               1.000000              0.000000               0.000000   \n",
       "75%               1.000000              1.000000               1.000000   \n",
       "max               1.000000              1.000000               1.000000   \n",
       "\n",
       "       flight_duration  booking_complete  \n",
       "count     50000.000000      50000.000000  \n",
       "mean          7.277561          0.149560  \n",
       "std           1.496863          0.356643  \n",
       "min           4.670000          0.000000  \n",
       "25%           5.620000          0.000000  \n",
       "50%           7.570000          0.000000  \n",
       "75%           8.830000          0.000000  \n",
       "max           9.500000          1.000000  "
      ]
     },
     "execution_count": 7,
     "metadata": {},
     "output_type": "execute_result"
    }
   ],
   "source": [
    "# Descriptive statistics of numerical columns\n",
    "df.describe()"
   ]
  },
  {
   "cell_type": "code",
   "execution_count": 8,
   "id": "b61be189-659f-49c8-a534-f7624705607a",
   "metadata": {
    "tags": []
   },
   "outputs": [
    {
     "data": {
      "text/plain": [
       "0"
      ]
     },
     "execution_count": 8,
     "metadata": {},
     "output_type": "execute_result"
    }
   ],
   "source": [
    "# Number of missing values\n",
    "df.isna().sum().sum()"
   ]
  },
  {
   "cell_type": "code",
   "execution_count": 9,
   "id": "02debed7-3d6b-4290-9188-83cdab063a7d",
   "metadata": {
    "tags": []
   },
   "outputs": [
    {
     "name": "stdout",
     "output_type": "stream",
     "text": [
      "['Internet' 'Mobile']\n",
      "\n",
      "['RoundTrip' 'CircleTrip' 'OneWay']\n",
      "\n",
      "['New Zealand' 'India' 'United Kingdom' 'China' 'South Korea' 'Japan'\n",
      " 'Malaysia' 'Singapore' 'Switzerland' 'Germany' 'Indonesia'\n",
      " 'Czech Republic' 'Vietnam' 'Thailand' 'Spain' 'Romania' 'Ireland' 'Italy'\n",
      " 'Slovakia' 'United Arab Emirates' 'Tonga' 'R\\x82union' '(not set)'\n",
      " 'Saudi Arabia' 'Netherlands' 'Qatar' 'Hong Kong' 'Philippines'\n",
      " 'Sri Lanka' 'France' 'Croatia' 'United States' 'Laos' 'Hungary'\n",
      " 'Portugal' 'Cyprus' 'Australia' 'Cambodia' 'Poland' 'Belgium' 'Oman'\n",
      " 'Bangladesh' 'Kazakhstan' 'Brazil' 'Turkey' 'Kenya' 'Taiwan' 'Brunei'\n",
      " 'Chile' 'Bulgaria' 'Ukraine' 'Denmark' 'Colombia' 'Iran' 'Bahrain'\n",
      " 'Solomon Islands' 'Slovenia' 'Mauritius' 'Nepal' 'Russia' 'Kuwait'\n",
      " 'Mexico' 'Sweden' 'Austria' 'Lebanon' 'Jordan' 'Greece' 'Mongolia'\n",
      " 'Canada' 'Tanzania' 'Peru' 'Timor-Leste' 'Argentina' 'New Caledonia'\n",
      " 'Macau' 'Myanmar (Burma)' 'Norway' 'Panama' 'Bhutan' 'Norfolk Island'\n",
      " 'Finland' 'Nicaragua' 'Maldives' 'Egypt' 'Israel' 'Tunisia'\n",
      " 'South Africa' 'Papua New Guinea' 'Paraguay' 'Estonia' 'Seychelles'\n",
      " 'Afghanistan' 'Guam' 'Czechia' 'Malta' 'Vanuatu' 'Belarus' 'Pakistan'\n",
      " 'Iraq' 'Ghana' 'Gibraltar' 'Guatemala' 'Algeria' 'Svalbard & Jan Mayen']\n"
     ]
    }
   ],
   "source": [
    "# Getting familiar with some categorical columns\n",
    "print(df['sales_channel'].unique())\n",
    "print()\n",
    "print(df['trip_type'].unique())\n",
    "print()\n",
    "print(df['booking_origin'].unique())\n",
    "#'flight_day', 'route'"
   ]
  },
  {
   "cell_type": "markdown",
   "id": "5fa0c8e7-f02b-4b55-b341-a7761368f151",
   "metadata": {},
   "source": [
    "#### 2. Data Preparation\n",
    "    replacing values, renaming columns, separating numerical and categorical variables"
   ]
  },
  {
   "cell_type": "code",
   "execution_count": 10,
   "id": "f9ab1df8-9ab3-4df7-859b-c40f5ab72672",
   "metadata": {},
   "outputs": [],
   "source": [
    "# Replacing inaccurate/repeating values\n",
    "df['booking_origin'] = df['booking_origin'].replace('R\\x82union', 'Reunion')\n",
    "df['booking_origin'] = df['booking_origin'].replace('Czechia', 'Czech Republic')"
   ]
  },
  {
   "cell_type": "code",
   "execution_count": 11,
   "id": "819fe7f7-aa7f-4ff2-bc57-6f0e1ce84c21",
   "metadata": {},
   "outputs": [],
   "source": [
    "# Renaming columns\n",
    "df = df.rename(columns={'num_passengers': 'Num_Passengers', 'sales_channel': 'Purchase_Channel',\n",
    "                   'trip_type': 'Trip_Type', 'purchase_lead': 'Purchase_Lead_Days',\n",
    "                   'length_of_stay': 'Duration_of_Stay', 'flight_hour': 'Hour_of_Flight',\n",
    "                   'flight_day': 'Day_of_Flight', 'route': 'Route', 'booking_origin': 'Booking_Origin',\n",
    "                   'wants_extra_baggage': 'Extra_Baggage', 'wants_preferred_seat': 'Preferred_Seat',\n",
    "                   'wants_in_flight_meals': 'On_Flight_Meals', 'flight_duration': 'Flight_Duration',\n",
    "                   'booking_complete': 'Booking_Complete'})"
   ]
  },
  {
   "cell_type": "code",
   "execution_count": 12,
   "id": "bb7fc529-12c5-4dfe-a897-ef2d0343363e",
   "metadata": {},
   "outputs": [],
   "source": [
    "# Extracting numerical and categorical columns\n",
    "num_cols = [col for col in df.columns if df[col].dtype in ['int64', 'float64']]\n",
    "cat_cols = [col for col in df.columns if df[col].dtype == 'object']"
   ]
  },
  {
   "cell_type": "markdown",
   "id": "2f45b3d5-7fee-4417-8857-efb779d3160d",
   "metadata": {},
   "source": [
    "#### 3. Understanding Features (Univariate Analysis)\n",
    "    plotting features distributions (box plot, kernel density estimate, histogram, bar chart)"
   ]
  },
  {
   "cell_type": "code",
   "execution_count": 13,
   "id": "4fdd8325-8b30-418a-8b78-6657d4f658d3",
   "metadata": {},
   "outputs": [
    {
     "data": {
      "text/plain": [
       "Num_Passengers        2903\n",
       "Purchase_Lead_Days    3456\n",
       "Duration_of_Stay      3807\n",
       "Hour_of_Flight           0\n",
       "Extra_Baggage            0\n",
       "Preferred_Seat           0\n",
       "On_Flight_Meals          0\n",
       "Flight_Duration          0\n",
       "Booking_Complete      7478\n",
       "dtype: int64"
      ]
     },
     "execution_count": 13,
     "metadata": {},
     "output_type": "execute_result"
    }
   ],
   "source": [
    "# Outliers\n",
    "Q1 = df[num_cols].quantile(0.25)\n",
    "Q3 = df[num_cols].quantile(0.75)\n",
    "\n",
    "IQR = Q3 - Q1\n",
    "\n",
    "outliers = (df[num_cols] < (Q1 - IQR*1.5)) | (df[num_cols] > (Q3 + IQR*1.5))\n",
    "outliers.sum()"
   ]
  },
  {
   "cell_type": "markdown",
   "id": "8267786c-cfd9-4a72-b78e-e8427b902416",
   "metadata": {},
   "source": [
    "In this case, the 'Booking_Complete' column doesn't really contain outlier values since it only holds 0s and 1s. However, due to the predominance of 0s, the presence of 1s is detected as outliers."
   ]
  },
  {
   "cell_type": "code",
   "execution_count": 14,
   "id": "ad73ac37-96ed-44ed-a545-a231dc9c3dd3",
   "metadata": {},
   "outputs": [
    {
     "data": {
      "image/png": "[encoded data removed]",
      "text/plain": [
       "<Figure size 720x864 with 3 Axes>"
      ]
     },
     "metadata": {
      "needs_background": "light"
     },
     "output_type": "display_data"
    }
   ],
   "source": [
    "# Vizualizing outliers\n",
    "plt.figure(figsize = (10, 12))\n",
    "\n",
    "for i, col in enumerate(df[['Num_Passengers', 'Purchase_Lead_Days', 'Duration_of_Stay']]):\n",
    "    plt.subplot(3, 1, i+1)\n",
    "    sns.boxplot(x = col, data = df)\n",
    "    \n",
    "plt.show()"
   ]
  },
  {
   "cell_type": "markdown",
   "id": "2cd1d229-0aa0-4723-941b-05be366cb251",
   "metadata": {},
   "source": [
    "Observations:\n",
    "\n",
    "    - on 75% of flights, people travel in groups of three or fewer\n",
    "    - majority of passengers book their flights less than 100 days in advance\n",
    "    - most trips lasts for 30 days or less"
   ]
  },
  {
   "cell_type": "code",
   "execution_count": 15,
   "id": "c084c236-364c-47dc-a51f-3a214dcdbcf7",
   "metadata": {},
   "outputs": [
    {
     "data": {
      "image/png": "[encoded data removed]",
      "text/plain": [
       "<Figure size 432x288 with 1 Axes>"
      ]
     },
     "metadata": {
      "needs_background": "light"
     },
     "output_type": "display_data"
    }
   ],
   "source": [
    "#df['Flight_Duration'].plot(kind='kde', title='Flight Duration')\n",
    "sns.histplot(df['Flight_Duration'], kde=True)\n",
    "plt.xlabel('Hours')\n",
    "plt.show()"
   ]
  },
  {
   "cell_type": "code",
   "execution_count": 16,
   "id": "b3850cd7-dd25-4b35-9c44-0030e05cb5af",
   "metadata": {},
   "outputs": [
    {
     "data": {
      "image/png": "[encoded data removed]",
      "text/plain": [
       "<Figure size 432x288 with 1 Axes>"
      ]
     },
     "metadata": {
      "needs_background": "light"
     },
     "output_type": "display_data"
    }
   ],
   "source": [
    "df['Hour_of_Flight'].plot(kind='hist', bins=100, title='Hour of Flight Departure')\n",
    "plt.xlabel('Hours')\n",
    "plt.xticks(range(0, 26,5))\n",
    "\n",
    "plt.show()"
   ]
  },
  {
   "cell_type": "code",
   "execution_count": 17,
   "id": "9ca6bafd-c05c-4178-bcd0-d438a82eb2f2",
   "metadata": {},
   "outputs": [
    {
     "data": {
      "image/png": "[encoded data removed]",
      "text/plain": [
       "<Figure size 432x288 with 1 Axes>"
      ]
     },
     "metadata": {
      "needs_background": "light"
     },
     "output_type": "display_data"
    }
   ],
   "source": [
    "df['Day_of_Flight'].value_counts().plot(kind='bar', title='Day of Flight')\n",
    "plt.xlabel('Week Day')\n",
    "plt.xticks(rotation=0)\n",
    "plt.show()"
   ]
  },
  {
   "cell_type": "code",
   "execution_count": 18,
   "id": "49dcaef7-b7b0-4c8d-bad0-fee8765dcb04",
   "metadata": {},
   "outputs": [
    {
     "data": {
      "image/png": "[encoded data removed]",
      "text/plain": [
       "<Figure size 432x288 with 1 Axes>"
      ]
     },
     "metadata": {
      "needs_background": "light"
     },
     "output_type": "display_data"
    }
   ],
   "source": [
    "df['Extra_Baggage'].value_counts().plot(kind='bar', title='Users Requesting Extra Baggage')\n",
    "plt.xlabel('')\n",
    "plt.xticks(rotation=0)\n",
    "plt.show()"
   ]
  },
  {
   "cell_type": "markdown",
   "id": "5d469c91-a5f8-4226-9235-6b7164c116e3",
   "metadata": {},
   "source": [
    "Noticeably, the highest number of trips are Round, flights that returns to the starting destination without additional stopovers."
   ]
  },
  {
   "cell_type": "code",
   "execution_count": 19,
   "id": "f5946b58-9821-49b0-a47b-a8164a02a61f",
   "metadata": {},
   "outputs": [
    {
     "data": {
      "image/png": "[encoded data removed]",
      "text/plain": [
       "<Figure size 432x288 with 1 Axes>"
      ]
     },
     "metadata": {
      "needs_background": "light"
     },
     "output_type": "display_data"
    }
   ],
   "source": [
    "df['Purchase_Channel'].value_counts().plot(kind='bar', title='Purchase Channel')\n",
    "plt.xlabel('')\n",
    "plt.xticks(rotation=0)\n",
    "plt.show()"
   ]
  },
  {
   "cell_type": "markdown",
   "id": "18cb4e64-5790-415f-b70d-5eaa731a9cf4",
   "metadata": {},
   "source": [
    "The vast majority of bookings are made through the Internet. "
   ]
  },
  {
   "cell_type": "code",
   "execution_count": 20,
   "id": "11599226-fc0c-4637-91e0-68ccf551462e",
   "metadata": {},
   "outputs": [
    {
     "data": {
      "image/png": "[encoded data removed]",
      "text/plain": [
       "<Figure size 432x288 with 1 Axes>"
      ]
     },
     "metadata": {
      "needs_background": "light"
     },
     "output_type": "display_data"
    }
   ],
   "source": [
    "counts = df['Booking_Complete'].value_counts()\n",
    "\n",
    "plt.bar(counts.index, counts.values)\n",
    "\n",
    "for i, v in enumerate(counts.values):\n",
    "  plt.text(i, v + 0.1, str(v), ha='center', va='top', fontsize=14)\n",
    "\n",
    "plt.xlabel(\"Booking Complete\")\n",
    "plt.xticks([1,0])\n",
    "plt.show()"
   ]
  },
  {
   "cell_type": "markdown",
   "id": "c3cc980e-4ec4-4944-8421-d94453c2d948",
   "metadata": {},
   "source": [
    "__Note:__ Only 7.478 out of 50.000 bookings were completed."
   ]
  },
  {
   "cell_type": "markdown",
   "id": "55876194-22ac-4d5b-89fe-874fc4fc1c23",
   "metadata": {},
   "source": [
    "### 4. Feature Relationships (Bivariate/Multivariate Analysis)"
   ]
  },
  {
   "cell_type": "code",
   "execution_count": 21,
   "id": "17dd35e3-aa90-4b2d-af3e-ea9c5cb5f899",
   "metadata": {
    "tags": []
   },
   "outputs": [],
   "source": [
    "# print(num_cols)"
   ]
  },
  {
   "cell_type": "code",
   "execution_count": 22,
   "id": "8478221b-4074-4b79-ace5-231e9eca9a37",
   "metadata": {},
   "outputs": [
    {
     "data": {
      "image/png": "[encoded data removed]",
      "text/plain": [
       "<Figure size 432x288 with 1 Axes>"
      ]
     },
     "metadata": {
      "needs_background": "light"
     },
     "output_type": "display_data"
    }
   ],
   "source": [
    "ax = sns.scatterplot(x='Duration_of_Stay' , y='Flight_Duration', hue='On_Flight_Meals', data=df)\n",
    "ax.set_xlabel('Stay in Days')\n",
    "ax.set_ylabel('Flight in Hours')\n",
    "ax.legend(title='Meals on Flight')\n",
    "plt.show()"
   ]
  },
  {
   "cell_type": "code",
   "execution_count": 23,
   "id": "0aa32807-e237-4bca-8e45-a42340e55221",
   "metadata": {},
   "outputs": [
    {
     "data": {
      "image/png": "[encoded data removed]",
      "text/plain": [
       "<Figure size 432x288 with 1 Axes>"
      ]
     },
     "metadata": {
      "needs_background": "light"
     },
     "output_type": "display_data"
    }
   ],
   "source": [
    "sns.scatterplot(x='Purchase_Lead_Days' , y='Num_Passengers', data=df)\n",
    "plt.show()"
   ]
  },
  {
   "cell_type": "code",
   "execution_count": 24,
   "id": "384cd2fc-a3b6-4c89-aeff-e570fe0223c1",
   "metadata": {},
   "outputs": [
    {
     "data": {
      "text/html": [
       "<div>\n",
       "<style scoped>\n",
       "    .dataframe tbody tr th:only-of-type {\n",
       "        vertical-align: middle;\n",
       "    }\n",
       "\n",
       "    .dataframe tbody tr th {\n",
       "        vertical-align: top;\n",
       "    }\n",
       "\n",
       "    .dataframe thead th {\n",
       "        text-align: right;\n",
       "    }\n",
       "</style>\n",
       "<table border=\"1\" class=\"dataframe\">\n",
       "  <thead>\n",
       "    <tr style=\"text-align: right;\">\n",
       "      <th></th>\n",
       "      <th>Num_Passengers</th>\n",
       "      <th>Purchase_Lead_Days</th>\n",
       "      <th>Duration_of_Stay</th>\n",
       "      <th>Hour_of_Flight</th>\n",
       "      <th>Extra_Baggage</th>\n",
       "      <th>Preferred_Seat</th>\n",
       "      <th>On_Flight_Meals</th>\n",
       "      <th>Flight_Duration</th>\n",
       "      <th>Booking_Complete</th>\n",
       "    </tr>\n",
       "  </thead>\n",
       "  <tbody>\n",
       "    <tr>\n",
       "      <th>Num_Passengers</th>\n",
       "      <td>1.000000</td>\n",
       "      <td>0.212606</td>\n",
       "      <td>-0.115850</td>\n",
       "      <td>0.015607</td>\n",
       "      <td>0.120404</td>\n",
       "      <td>0.028544</td>\n",
       "      <td>0.022943</td>\n",
       "      <td>-0.063169</td>\n",
       "      <td>0.024116</td>\n",
       "    </tr>\n",
       "    <tr>\n",
       "      <th>Purchase_Lead_Days</th>\n",
       "      <td>0.212606</td>\n",
       "      <td>1.000000</td>\n",
       "      <td>-0.076560</td>\n",
       "      <td>0.035973</td>\n",
       "      <td>-0.022207</td>\n",
       "      <td>-0.004499</td>\n",
       "      <td>-0.022653</td>\n",
       "      <td>0.067866</td>\n",
       "      <td>-0.022131</td>\n",
       "    </tr>\n",
       "    <tr>\n",
       "      <th>Duration_of_Stay</th>\n",
       "      <td>-0.115850</td>\n",
       "      <td>-0.076560</td>\n",
       "      <td>1.000000</td>\n",
       "      <td>-0.024872</td>\n",
       "      <td>0.176757</td>\n",
       "      <td>0.032264</td>\n",
       "      <td>0.098828</td>\n",
       "      <td>0.141181</td>\n",
       "      <td>-0.042408</td>\n",
       "    </tr>\n",
       "    <tr>\n",
       "      <th>Hour_of_Flight</th>\n",
       "      <td>0.015607</td>\n",
       "      <td>0.035973</td>\n",
       "      <td>-0.024872</td>\n",
       "      <td>1.000000</td>\n",
       "      <td>-0.011434</td>\n",
       "      <td>0.012171</td>\n",
       "      <td>0.013014</td>\n",
       "      <td>-0.002101</td>\n",
       "      <td>0.007127</td>\n",
       "    </tr>\n",
       "    <tr>\n",
       "      <th>Extra_Baggage</th>\n",
       "      <td>0.120404</td>\n",
       "      <td>-0.022207</td>\n",
       "      <td>0.176757</td>\n",
       "      <td>-0.011434</td>\n",
       "      <td>1.000000</td>\n",
       "      <td>0.207669</td>\n",
       "      <td>0.216470</td>\n",
       "      <td>0.057054</td>\n",
       "      <td>0.068139</td>\n",
       "    </tr>\n",
       "    <tr>\n",
       "      <th>Preferred_Seat</th>\n",
       "      <td>0.028544</td>\n",
       "      <td>-0.004499</td>\n",
       "      <td>0.032264</td>\n",
       "      <td>0.012171</td>\n",
       "      <td>0.207669</td>\n",
       "      <td>1.000000</td>\n",
       "      <td>0.315088</td>\n",
       "      <td>0.101289</td>\n",
       "      <td>0.050116</td>\n",
       "    </tr>\n",
       "    <tr>\n",
       "      <th>On_Flight_Meals</th>\n",
       "      <td>0.022943</td>\n",
       "      <td>-0.022653</td>\n",
       "      <td>0.098828</td>\n",
       "      <td>0.013014</td>\n",
       "      <td>0.216470</td>\n",
       "      <td>0.315088</td>\n",
       "      <td>1.000000</td>\n",
       "      <td>0.154312</td>\n",
       "      <td>0.026511</td>\n",
       "    </tr>\n",
       "    <tr>\n",
       "      <th>Flight_Duration</th>\n",
       "      <td>-0.063169</td>\n",
       "      <td>0.067866</td>\n",
       "      <td>0.141181</td>\n",
       "      <td>-0.002101</td>\n",
       "      <td>0.057054</td>\n",
       "      <td>0.101289</td>\n",
       "      <td>0.154312</td>\n",
       "      <td>1.000000</td>\n",
       "      <td>-0.106266</td>\n",
       "    </tr>\n",
       "    <tr>\n",
       "      <th>Booking_Complete</th>\n",
       "      <td>0.024116</td>\n",
       "      <td>-0.022131</td>\n",
       "      <td>-0.042408</td>\n",
       "      <td>0.007127</td>\n",
       "      <td>0.068139</td>\n",
       "      <td>0.050116</td>\n",
       "      <td>0.026511</td>\n",
       "      <td>-0.106266</td>\n",
       "      <td>1.000000</td>\n",
       "    </tr>\n",
       "  </tbody>\n",
       "</table>\n",
       "</div>"
      ],
      "text/plain": [
       "                    Num_Passengers  Purchase_Lead_Days  Duration_of_Stay  \\\n",
       "Num_Passengers            1.000000            0.212606         -0.115850   \n",
       "Purchase_Lead_Days        0.212606            1.000000         -0.076560   \n",
       "Duration_of_Stay         -0.115850           -0.076560          1.000000   \n",
       "Hour_of_Flight            0.015607            0.035973         -0.024872   \n",
       "Extra_Baggage             0.120404           -0.022207          0.176757   \n",
       "Preferred_Seat            0.028544           -0.004499          0.032264   \n",
       "On_Flight_Meals           0.022943           -0.022653          0.098828   \n",
       "Flight_Duration          -0.063169            0.067866          0.141181   \n",
       "Booking_Complete          0.024116           -0.022131         -0.042408   \n",
       "\n",
       "                    Hour_of_Flight  Extra_Baggage  Preferred_Seat  \\\n",
       "Num_Passengers            0.015607       0.120404        0.028544   \n",
       "Purchase_Lead_Days        0.035973      -0.022207       -0.004499   \n",
       "Duration_of_Stay         -0.024872       0.176757        0.032264   \n",
       "Hour_of_Flight            1.000000      -0.011434        0.012171   \n",
       "Extra_Baggage            -0.011434       1.000000        0.207669   \n",
       "Preferred_Seat            0.012171       0.207669        1.000000   \n",
       "On_Flight_Meals           0.013014       0.216470        0.315088   \n",
       "Flight_Duration          -0.002101       0.057054        0.101289   \n",
       "Booking_Complete          0.007127       0.068139        0.050116   \n",
       "\n",
       "                    On_Flight_Meals  Flight_Duration  Booking_Complete  \n",
       "Num_Passengers             0.022943        -0.063169          0.024116  \n",
       "Purchase_Lead_Days        -0.022653         0.067866         -0.022131  \n",
       "Duration_of_Stay           0.098828         0.141181         -0.042408  \n",
       "Hour_of_Flight             0.013014        -0.002101          0.007127  \n",
       "Extra_Baggage              0.216470         0.057054          0.068139  \n",
       "Preferred_Seat             0.315088         0.101289          0.050116  \n",
       "On_Flight_Meals            1.000000         0.154312          0.026511  \n",
       "Flight_Duration            0.154312         1.000000         -0.106266  \n",
       "Booking_Complete           0.026511        -0.106266          1.000000  "
      ]
     },
     "execution_count": 24,
     "metadata": {},
     "output_type": "execute_result"
    }
   ],
   "source": [
    "df[num_cols].corr()"
   ]
  },
  {
   "cell_type": "markdown",
   "id": "a0f5af8d-706c-49e9-b6fc-d90d25841727",
   "metadata": {},
   "source": [
    "This matrix indicates that there is no strong correlation between variables. <br> The stronges is between On_Flight_Meals and Preferred_Seat (passengers' preferences for meals and their choice of seating arrangements during flights)."
   ]
  },
  {
   "cell_type": "markdown",
   "id": "dbae8a6a-9249-4df5-9e82-d5345f54d4be",
   "metadata": {
    "tags": []
   },
   "source": [
    "##### 5. Q&A (Exploratory Questions)\n",
    "    5.1. Average Flight Duration\n",
    "    5.2. On what Day and Hour people book the most flights\n",
    "    5.3. Top5 Destinations from which complete/uncomplete Bookings are made\n",
    "    5.4. What are the top5 most popular Routes by Type of flight\n",
    "    5.5  Number of users requesting either Flight Meals or Preferred Seat based on Flight Duration "
   ]
  },
  {
   "cell_type": "markdown",
   "id": "222dd141-fc9f-4082-89c7-4dfc42d3f14f",
   "metadata": {},
   "source": [
    "    5.1. Average Flight Duration"
   ]
  },
  {
   "cell_type": "code",
   "execution_count": 25,
   "id": "d3235831-4af8-4109-834d-624d53f36544",
   "metadata": {},
   "outputs": [
    {
     "name": "stdout",
     "output_type": "stream",
     "text": [
      "Flights last for 7.28 hours on average\n"
     ]
    },
    {
     "data": {
      "image/png": "[encoded data removed]",
      "text/plain": [
       "<Figure size 1080x432 with 1 Axes>"
      ]
     },
     "metadata": {
      "needs_background": "light"
     },
     "output_type": "display_data"
    }
   ],
   "source": [
    "# Calculate the average flight duration\n",
    "average_duration = df['Flight_Duration'].mean()\n",
    "print(f\"Flights last for {average_duration:.2f} hours on average\")\n",
    "\n",
    "plt.figure(figsize=(15,6))\n",
    "sns.countplot(df, x='Flight_Duration')\n",
    "plt.show()"
   ]
  },
  {
   "cell_type": "markdown",
   "id": "76752408-fae7-48a2-ad25-5ae06f28e67e",
   "metadata": {},
   "source": [
    "    5.2. On what Day and Hour people book the most flights"
   ]
  },
  {
   "cell_type": "code",
   "execution_count": 26,
   "id": "1c5d4ef2-d391-4223-8709-3e66f12d737f",
   "metadata": {},
   "outputs": [
    {
     "name": "stdout",
     "output_type": "stream",
     "text": [
      "Day      Mon\n",
      "Hour       8\n",
      "Count    558\n",
      "Name: 32, dtype: object\n"
     ]
    }
   ],
   "source": [
    "flight_counts = df.groupby(['Day_of_Flight', 'Hour_of_Flight']).size().reset_index()\n",
    "flight_counts.columns = ['Day', 'Hour', 'Count']\n",
    "most_bookings = flight_counts.loc[flight_counts['Count'].idxmax()]\n",
    "\n",
    "print(most_bookings)"
   ]
  },
  {
   "cell_type": "code",
   "execution_count": 27,
   "id": "ceaceaf3-376c-49e1-9558-e478db1a0989",
   "metadata": {},
   "outputs": [
    {
     "data": {
      "image/png": "[encoded data removed]",
      "text/plain": [
       "<Figure size 864x432 with 1 Axes>"
      ]
     },
     "metadata": {
      "needs_background": "light"
     },
     "output_type": "display_data"
    }
   ],
   "source": [
    "plt.figure(figsize=(12, 6))\n",
    "\n",
    "sns.barplot(x='Day', y='Count', hue='Hour', data=flight_counts)\n",
    "\n",
    "plt.title('Number of Flights by Day and Day')\n",
    "plt.xlabel('Day of Flight')\n",
    "plt.ylabel('Number of Flights')\n",
    "plt.legend(title='Hour of Flight',  bbox_to_anchor=(1, 1.1), loc='upper left')\n",
    "\n",
    "plt.show()"
   ]
  },
  {
   "cell_type": "markdown",
   "id": "8de7af54-056e-41ea-9e92-851350a86ae7",
   "metadata": {},
   "source": [
    "Flight Hours follow the same pattern for each day of a week as the overall distribution visualized above."
   ]
  },
  {
   "cell_type": "markdown",
   "id": "3b17634d-fda7-4aee-97bb-340caa43c47c",
   "metadata": {},
   "source": [
    "    5.3. Top5 Destinations from which complete/uncomplete Bookings are made"
   ]
  },
  {
   "cell_type": "code",
   "execution_count": 28,
   "id": "d1b7c1fc-0ef6-42ca-b9e2-1895896698e4",
   "metadata": {},
   "outputs": [
    {
     "name": "stdout",
     "output_type": "stream",
     "text": [
      "Top5 countries with completed bookings:\n"
     ]
    },
    {
     "data": {
      "text/html": [
       "<div>\n",
       "<style scoped>\n",
       "    .dataframe tbody tr th:only-of-type {\n",
       "        vertical-align: middle;\n",
       "    }\n",
       "\n",
       "    .dataframe tbody tr th {\n",
       "        vertical-align: top;\n",
       "    }\n",
       "\n",
       "    .dataframe thead th {\n",
       "        text-align: right;\n",
       "    }\n",
       "</style>\n",
       "<table border=\"1\" class=\"dataframe\">\n",
       "  <thead>\n",
       "    <tr style=\"text-align: right;\">\n",
       "      <th></th>\n",
       "      <th>Booking_Origin</th>\n",
       "      <th>count</th>\n",
       "    </tr>\n",
       "  </thead>\n",
       "  <tbody>\n",
       "    <tr>\n",
       "      <th>0</th>\n",
       "      <td>Malaysia</td>\n",
       "      <td>2468</td>\n",
       "    </tr>\n",
       "    <tr>\n",
       "      <th>1</th>\n",
       "      <td>Australia</td>\n",
       "      <td>900</td>\n",
       "    </tr>\n",
       "    <tr>\n",
       "      <th>2</th>\n",
       "      <td>China</td>\n",
       "      <td>694</td>\n",
       "    </tr>\n",
       "    <tr>\n",
       "      <th>3</th>\n",
       "      <td>Indonesia</td>\n",
       "      <td>615</td>\n",
       "    </tr>\n",
       "    <tr>\n",
       "      <th>4</th>\n",
       "      <td>Japan</td>\n",
       "      <td>478</td>\n",
       "    </tr>\n",
       "  </tbody>\n",
       "</table>\n",
       "</div>"
      ],
      "text/plain": [
       "  Booking_Origin  count\n",
       "0       Malaysia   2468\n",
       "1      Australia    900\n",
       "2          China    694\n",
       "3      Indonesia    615\n",
       "4          Japan    478"
      ]
     },
     "execution_count": 28,
     "metadata": {},
     "output_type": "execute_result"
    }
   ],
   "source": [
    "print('Top5 countries with completed bookings:')\n",
    "df.query('Booking_Complete == 1')['Booking_Origin'].value_counts().reset_index().head(5)"
   ]
  },
  {
   "cell_type": "code",
   "execution_count": 29,
   "id": "e51328fa-556d-4c3b-a207-0583f3fb7362",
   "metadata": {},
   "outputs": [
    {
     "name": "stdout",
     "output_type": "stream",
     "text": [
      "Top5 countries with uncompleted bookings:\n"
     ]
    },
    {
     "data": {
      "text/html": [
       "<div>\n",
       "<style scoped>\n",
       "    .dataframe tbody tr th:only-of-type {\n",
       "        vertical-align: middle;\n",
       "    }\n",
       "\n",
       "    .dataframe tbody tr th {\n",
       "        vertical-align: top;\n",
       "    }\n",
       "\n",
       "    .dataframe thead th {\n",
       "        text-align: right;\n",
       "    }\n",
       "</style>\n",
       "<table border=\"1\" class=\"dataframe\">\n",
       "  <thead>\n",
       "    <tr style=\"text-align: right;\">\n",
       "      <th></th>\n",
       "      <th>Booking_Origin</th>\n",
       "      <th>count</th>\n",
       "    </tr>\n",
       "  </thead>\n",
       "  <tbody>\n",
       "    <tr>\n",
       "      <th>0</th>\n",
       "      <td>Australia</td>\n",
       "      <td>16972</td>\n",
       "    </tr>\n",
       "    <tr>\n",
       "      <th>1</th>\n",
       "      <td>Malaysia</td>\n",
       "      <td>4706</td>\n",
       "    </tr>\n",
       "    <tr>\n",
       "      <th>2</th>\n",
       "      <td>South Korea</td>\n",
       "      <td>4097</td>\n",
       "    </tr>\n",
       "    <tr>\n",
       "      <th>3</th>\n",
       "      <td>Japan</td>\n",
       "      <td>3407</td>\n",
       "    </tr>\n",
       "    <tr>\n",
       "      <th>4</th>\n",
       "      <td>China</td>\n",
       "      <td>2693</td>\n",
       "    </tr>\n",
       "  </tbody>\n",
       "</table>\n",
       "</div>"
      ],
      "text/plain": [
       "  Booking_Origin  count\n",
       "0      Australia  16972\n",
       "1       Malaysia   4706\n",
       "2    South Korea   4097\n",
       "3          Japan   3407\n",
       "4          China   2693"
      ]
     },
     "execution_count": 29,
     "metadata": {},
     "output_type": "execute_result"
    }
   ],
   "source": [
    "print('Top5 countries with uncompleted bookings:')\n",
    "df.query('Booking_Complete == 0')['Booking_Origin'].value_counts().reset_index().head(5)"
   ]
  },
  {
   "cell_type": "markdown",
   "id": "1267c7f3-f6ca-4ecb-9355-0324e5b771c0",
   "metadata": {},
   "source": [
    "    5.4. What are the top5 most popular Routes by Type of flight"
   ]
  },
  {
   "cell_type": "markdown",
   "id": "64dc7f43-7df8-4f79-bf2c-1051022465f8",
   "metadata": {},
   "source": [
    "* Most popular routes on **Round Trips** (and in the whole dataset):\n",
    "\n",
    "        Auckland, New Zeland (AKL) ->- Kuala Lumpur, Malaysia (KUL)\n",
    "        Penang, Malaysia (PEN) ->- Taipei City, Malaysia (TPE)\n",
    "        Melbourne, Autralia (MEL) ->- Ho Chi Minh City, Vietnam (SGN)\n",
    "        Seoul, South Korea (ICN) ->- Changi, Singapore (SIN)\n",
    "        Bangkok, Thailand (DMK) ->- Osaka, Japan (KIX)\n",
    "        \n",
    "* Most popular routes on **One Way** Trips:\n",
    "\n",
    "        Seoul, South Korea (ICN) ->- Sydney, Australia (SYD)\n",
    "        Auckland, New Zeland (AKL) ->- Kuala Lumpur, Malaysia (KUL)\n",
    "        Tokyo, Japan (HND) ->- Perth, Australia (PER)\n",
    "        Seoul, South Korea (ICN) ->- Changi, Singapore (SIN)\n",
    "        Melbourne, Autralia (MEL) ->- Taipei City, Malaysia (TPE)\n",
    "        \n",
    "* Most popular routes on **Circle Trips** (tirps that include multiple stops along the route):<br>\n",
    "_Note: All these count less then 10 flights_\n",
    "\n",
    "        Seoul, South Korea (ICN) ->- Sydney, Australia (SYD)\n",
    "        Colombo, Sri Lanka(CMB) ->- Melbourne, Autralia (MEL)\n",
    "        Melbourne, Autralia (MEL) ->- Taipei City, Malaysia (TPE)\n",
    "        Colombo, Sri Lanka(CMB) ->- Sydney, Australia (SYD)\n",
    "        Angeles, Philippines (CRK) ->- Gold Coast, Australia (OOL)"
   ]
  },
  {
   "cell_type": "code",
   "execution_count": 30,
   "id": "d3cdd20e-f92f-48ae-91af-5af063d67a61",
   "metadata": {},
   "outputs": [
    {
     "data": {
      "image/png": "[encoded data removed]",
      "text/plain": [
       "<Figure size 720x360 with 3 Axes>"
      ]
     },
     "metadata": {
      "needs_background": "light"
     },
     "output_type": "display_data"
    }
   ],
   "source": [
    "plt.figure(figsize = (10, 5))\n",
    "\n",
    "sorted_trip_types = df['Trip_Type'].unique()\n",
    "sorted_trip_types.sort()\n",
    "\n",
    "for i, triptype in enumerate(sorted_trip_types):\n",
    "    plt.subplot(1, 3, i+1)\n",
    "\n",
    "    top5 = df.query(f'Trip_Type == \"{triptype}\"')['Route'].value_counts().head(5)\n",
    "    top5.plot(kind='bar')\n",
    "    plt.xlabel('Route', fontsize=10)\n",
    "    plt.xticks(rotation=30)\n",
    "    plt.title(f'{triptype}')\n",
    "plt.show()"
   ]
  },
  {
   "cell_type": "markdown",
   "id": "31a54900-9078-45fb-83ce-9d22d258308f",
   "metadata": {},
   "source": [
    "    5.5  Number of users requesting either Flight Meals or Preferred Seat based on Flight Duration"
   ]
  },
  {
   "cell_type": "code",
   "execution_count": 31,
   "id": "675e5ac5-a836-4550-b244-cc6a1ba0857f",
   "metadata": {},
   "outputs": [
    {
     "data": {
      "text/plain": [
       "<Figure size 720x432 with 0 Axes>"
      ]
     },
     "metadata": {},
     "output_type": "display_data"
    },
    {
     "data": {
      "image/png": "[encoded data removed]",
      "text/plain": [
       "<Figure size 432x288 with 1 Axes>"
      ]
     },
     "metadata": {
      "needs_background": "light"
     },
     "output_type": "display_data"
    }
   ],
   "source": [
    "# Total number of users per flight duration\n",
    "total_users = df.groupby('Flight_Duration').count()['Booking_Complete']\n",
    "\n",
    "# Counts of users wanting preferred seats or on-flight meals per flight duration\n",
    "requests_counts = df.query('Preferred_Seat == 1 or On_Flight_Meals == 1').groupby('Flight_Duration').sum()[['Preferred_Seat', 'On_Flight_Meals']]\n",
    "\n",
    "# Percentage of users for each duration\n",
    "duration_percentages = requests_counts.div(total_users, axis=0) * 100\n",
    "\n",
    "plt.figure(figsize=(10, 6))\n",
    "\n",
    "duration_percentages.plot(kind='bar', color=['skyblue', 'orange'], width=0.5)\n",
    "\n",
    "plt.xlabel('Flight Duration')\n",
    "plt.ylabel('% of Users')\n",
    "plt.title('% of Users Wanting Requesting Seats or On-flight Meals by Flight Duration')\n",
    "plt.xticks(rotation=45)\n",
    "plt.tight_layout()\n",
    "plt.show()"
   ]
  }
 ],
 "metadata": {
  "kernelspec": {
   "display_name": "Python 3 (ipykernel)",
   "language": "python",
   "name": "python3"
  },
  "language_info": {
   "codemirror_mode": {
    "name": "ipython",
    "version": 3
   },
   "file_extension": ".py",
   "mimetype": "text/x-python",
   "name": "python",
   "nbconvert_exporter": "python",
   "pygments_lexer": "ipython3",
   "version": "3.9.13"
  }
 },
 "nbformat": 4,
 "nbformat_minor": 5
}
